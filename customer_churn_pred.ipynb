{
 "cells": [
  {
   "cell_type": "markdown",
   "id": "173cb5d9",
   "metadata": {},
   "source": [
    "\n",
    "<span style=\"font-size:26px;\">**Predictive Modeling for Customer Churn**</span>  \n",
    "\n",
    "\n",
    "A Comparative Analysis of Decision Tree, Random Forest, and Neural Network Classifier"
   ]
  },
  {
   "cell_type": "code",
   "execution_count": 2,
   "id": "858f2ae0",
   "metadata": {},
   "outputs": [],
   "source": [
    "#Importing the initial necessary libraries\n",
    "\n",
    "import pandas as pd\n",
    "from sklearn.metrics import confusion_matrix,classification_report,accuracy_score\n",
    "from sklearn.metrics import plot_confusion_matrix\n",
    "import matplotlib.pyplot as plt\n"
   ]
  },
  {
   "cell_type": "markdown",
   "id": "25916e1f",
   "metadata": {},
   "source": [
    "**Loading Data Set**"
   ]
  },
  {
   "cell_type": "code",
   "execution_count": 38,
   "id": "e23bc5f2",
   "metadata": {},
   "outputs": [
    {
     "name": "stdout",
     "output_type": "stream",
     "text": [
      "   SeniorCitizen Dependents  tenure InternetService OnlineSecurity  \\\n",
      "0              0         No       1             DSL             No   \n",
      "1              0         No      34             DSL            Yes   \n",
      "2              0         No       2             DSL            Yes   \n",
      "3              0         No      45             DSL            Yes   \n",
      "4              0         No       2     Fiber_optic             No   \n",
      "\n",
      "  OnlineBackup TechSupport StreamingTV StreamingMovies        Contract  \\\n",
      "0          Yes          No          No              No  Month_to_month   \n",
      "1           No          No          No              No        One_year   \n",
      "2          Yes          No          No              No  Month_to_month   \n",
      "3           No         Yes          No              No        One_year   \n",
      "4           No          No          No              No  Month_to_month   \n",
      "\n",
      "  PaperlessBilling       PaymentMethod  MonthlyCharges  TotalCharges Churn  \n",
      "0              Yes    Electronic_check           29.85         29.85    No  \n",
      "1               No        Mailed_check           56.95       1889.50    No  \n",
      "2              Yes        Mailed_check           53.85        108.15   Yes  \n",
      "3               No  Bank_transfer_auto           42.30       1840.75    No  \n",
      "4              Yes    Electronic_check           70.70        151.65   Yes  \n"
     ]
    }
   ],
   "source": [
    "#Loading the data set\n",
    "\n",
    "data = pd.read_csv('CustomerChurn.csv')              \n",
    "print(data.head())               #Raw Data\n"
   ]
  },
  {
   "cell_type": "code",
   "execution_count": 39,
   "id": "0922bcdf",
   "metadata": {},
   "outputs": [
    {
     "data": {
      "text/plain": [
       "<bound method NDFrame.describe of       SeniorCitizen Dependents  tenure InternetService OnlineSecurity  \\\n",
       "0                 0         No       1             DSL             No   \n",
       "1                 0         No      34             DSL            Yes   \n",
       "2                 0         No       2             DSL            Yes   \n",
       "3                 0         No      45             DSL            Yes   \n",
       "4                 0         No       2     Fiber_optic             No   \n",
       "...             ...        ...     ...             ...            ...   \n",
       "7027              0        Yes      24             DSL            Yes   \n",
       "7028              0        Yes      72     Fiber_optic             No   \n",
       "7029              0        Yes      11             DSL            Yes   \n",
       "7030              1         No       4     Fiber_optic             No   \n",
       "7031              0         No      66     Fiber_optic            Yes   \n",
       "\n",
       "     OnlineBackup TechSupport StreamingTV StreamingMovies        Contract  \\\n",
       "0             Yes          No          No              No  Month_to_month   \n",
       "1              No          No          No              No        One_year   \n",
       "2             Yes          No          No              No  Month_to_month   \n",
       "3              No         Yes          No              No        One_year   \n",
       "4              No          No          No              No  Month_to_month   \n",
       "...           ...         ...         ...             ...             ...   \n",
       "7027           No         Yes         Yes             Yes        One_year   \n",
       "7028          Yes          No         Yes             Yes        One_year   \n",
       "7029           No          No          No              No  Month_to_month   \n",
       "7030           No          No          No              No  Month_to_month   \n",
       "7031           No         Yes         Yes             Yes        Two_year   \n",
       "\n",
       "     PaperlessBilling       PaymentMethod  MonthlyCharges  TotalCharges Churn  \n",
       "0                 Yes    Electronic_check           29.85         29.85    No  \n",
       "1                  No        Mailed_check           56.95       1889.50    No  \n",
       "2                 Yes        Mailed_check           53.85        108.15   Yes  \n",
       "3                  No  Bank_transfer_auto           42.30       1840.75    No  \n",
       "4                 Yes    Electronic_check           70.70        151.65   Yes  \n",
       "...               ...                 ...             ...           ...   ...  \n",
       "7027              Yes        Mailed_check           84.80       1990.50    No  \n",
       "7028              Yes    Credit_card_auto          103.20       7362.90    No  \n",
       "7029              Yes    Electronic_check           29.60        346.45    No  \n",
       "7030              Yes        Mailed_check           74.40        306.60   Yes  \n",
       "7031              Yes  Bank_transfer_auto          105.65       6844.50    No  \n",
       "\n",
       "[7032 rows x 15 columns]>"
      ]
     },
     "execution_count": 39,
     "metadata": {},
     "output_type": "execute_result"
    }
   ],
   "source": [
    "#summarized description of data set\n",
    "data.describe"
   ]
  },
  {
   "cell_type": "code",
   "execution_count": 40,
   "id": "ee58a005",
   "metadata": {},
   "outputs": [
    {
     "data": {
      "text/plain": [
       "SeniorCitizen         int64\n",
       "Dependents           object\n",
       "tenure                int64\n",
       "InternetService      object\n",
       "OnlineSecurity       object\n",
       "OnlineBackup         object\n",
       "TechSupport          object\n",
       "StreamingTV          object\n",
       "StreamingMovies      object\n",
       "Contract             object\n",
       "PaperlessBilling     object\n",
       "PaymentMethod        object\n",
       "MonthlyCharges      float64\n",
       "TotalCharges        float64\n",
       "Churn                object\n",
       "dtype: object"
      ]
     },
     "execution_count": 40,
     "metadata": {},
     "output_type": "execute_result"
    }
   ],
   "source": [
    "#showing data types of each column\n",
    "data.dtypes"
   ]
  },
  {
   "cell_type": "code",
   "execution_count": null,
   "id": "72bf5ff4",
   "metadata": {},
   "outputs": [],
   "source": []
  },
  {
   "cell_type": "markdown",
   "id": "d9f8e67d",
   "metadata": {},
   "source": [
    "**Distribution of target column**"
   ]
  },
  {
   "cell_type": "code",
   "execution_count": 41,
   "id": "20706218",
   "metadata": {},
   "outputs": [
    {
     "data": {
      "text/plain": [
       "Text(0.5, 1.0, 'Distribution of Target Column')"
      ]
     },
     "execution_count": 41,
     "metadata": {},
     "output_type": "execute_result"
    },
    {
     "data": {
      "image/png": "[encoded data removed]",
      "text/plain": [
       "<Figure size 432x288 with 1 Axes>"
      ]
     },
     "metadata": {},
     "output_type": "display_data"
    }
   ],
   "source": [
    "#distribution of target column\n",
    "\n",
    "value_counts = data['Churn'].value_counts()\n",
    "\n",
    "# Plotting the pie chart\n",
    "plt.pie(value_counts, labels=value_counts.index, autopct='%1.1f%%', startangle=90, colors=['lightgreen', 'lightcoral'])\n",
    "\n",
    "# Adding title\n",
    "plt.title('Distribution of Target Column')\n",
    "\n"
   ]
  },
  {
   "cell_type": "code",
   "execution_count": null,
   "id": "606f286f",
   "metadata": {},
   "outputs": [],
   "source": []
  },
  {
   "cell_type": "markdown",
   "id": "2162625c",
   "metadata": {},
   "source": [
    "**Convert labels to numeric data for this framework**"
   ]
  },
  {
   "cell_type": "code",
   "execution_count": 42,
   "id": "7905e55d",
   "metadata": {},
   "outputs": [],
   "source": [
    "#importing the lable encoder\n",
    "from sklearn.preprocessing import LabelEncoder\n",
    "\n",
    "#convert labels to numeric for this framework\n",
    "le = LabelEncoder()\n",
    "data['Churn']= le.fit_transform(data['Churn'])\n",
    "\n",
    "data['Dependents']= le.fit_transform(data['Dependents'])\n",
    "\n",
    "data['InternetService']= le.fit_transform(data['InternetService'])\n",
    "data['OnlineSecurity']= le.fit_transform(data['OnlineSecurity'])\n",
    "data['OnlineBackup']= le.fit_transform(data['OnlineBackup'])\n",
    "\n",
    "data['TechSupport']= le.fit_transform(data['TechSupport'])\n",
    "data['StreamingTV']= le.fit_transform(data['StreamingTV'])\n",
    "data['StreamingMovies']= le.fit_transform(data['StreamingMovies'])\n",
    "data['Contract']= le.fit_transform(data['Contract'])\n",
    "data['PaperlessBilling']= le.fit_transform(data['PaperlessBilling'])      \n",
    "data['PaymentMethod']= le.fit_transform(data['PaymentMethod'])"
   ]
  },
  {
   "cell_type": "code",
   "execution_count": null,
   "id": "d181a959",
   "metadata": {},
   "outputs": [],
   "source": []
  },
  {
   "cell_type": "code",
   "execution_count": 43,
   "id": "046bbee0",
   "metadata": {},
   "outputs": [
    {
     "data": {
      "text/html": [
       "<div>\n",
       "<style scoped>\n",
       "    .dataframe tbody tr th:only-of-type {\n",
       "        vertical-align: middle;\n",
       "    }\n",
       "\n",
       "    .dataframe tbody tr th {\n",
       "        vertical-align: top;\n",
       "    }\n",
       "\n",
       "    .dataframe thead th {\n",
       "        text-align: right;\n",
       "    }\n",
       "</style>\n",
       "<table border=\"1\" class=\"dataframe\">\n",
       "  <thead>\n",
       "    <tr style=\"text-align: right;\">\n",
       "      <th></th>\n",
       "      <th>SeniorCitizen</th>\n",
       "      <th>Dependents</th>\n",
       "      <th>tenure</th>\n",
       "      <th>InternetService</th>\n",
       "      <th>OnlineSecurity</th>\n",
       "      <th>OnlineBackup</th>\n",
       "      <th>TechSupport</th>\n",
       "      <th>StreamingTV</th>\n",
       "      <th>StreamingMovies</th>\n",
       "      <th>Contract</th>\n",
       "      <th>PaperlessBilling</th>\n",
       "      <th>PaymentMethod</th>\n",
       "      <th>MonthlyCharges</th>\n",
       "      <th>TotalCharges</th>\n",
       "      <th>Churn</th>\n",
       "    </tr>\n",
       "  </thead>\n",
       "  <tbody>\n",
       "    <tr>\n",
       "      <th>0</th>\n",
       "      <td>0</td>\n",
       "      <td>0</td>\n",
       "      <td>1</td>\n",
       "      <td>0</td>\n",
       "      <td>0</td>\n",
       "      <td>2</td>\n",
       "      <td>0</td>\n",
       "      <td>0</td>\n",
       "      <td>0</td>\n",
       "      <td>0</td>\n",
       "      <td>1</td>\n",
       "      <td>2</td>\n",
       "      <td>29.85</td>\n",
       "      <td>29.85</td>\n",
       "      <td>0</td>\n",
       "    </tr>\n",
       "    <tr>\n",
       "      <th>1</th>\n",
       "      <td>0</td>\n",
       "      <td>0</td>\n",
       "      <td>34</td>\n",
       "      <td>0</td>\n",
       "      <td>2</td>\n",
       "      <td>0</td>\n",
       "      <td>0</td>\n",
       "      <td>0</td>\n",
       "      <td>0</td>\n",
       "      <td>1</td>\n",
       "      <td>0</td>\n",
       "      <td>3</td>\n",
       "      <td>56.95</td>\n",
       "      <td>1889.50</td>\n",
       "      <td>0</td>\n",
       "    </tr>\n",
       "    <tr>\n",
       "      <th>2</th>\n",
       "      <td>0</td>\n",
       "      <td>0</td>\n",
       "      <td>2</td>\n",
       "      <td>0</td>\n",
       "      <td>2</td>\n",
       "      <td>2</td>\n",
       "      <td>0</td>\n",
       "      <td>0</td>\n",
       "      <td>0</td>\n",
       "      <td>0</td>\n",
       "      <td>1</td>\n",
       "      <td>3</td>\n",
       "      <td>53.85</td>\n",
       "      <td>108.15</td>\n",
       "      <td>1</td>\n",
       "    </tr>\n",
       "    <tr>\n",
       "      <th>3</th>\n",
       "      <td>0</td>\n",
       "      <td>0</td>\n",
       "      <td>45</td>\n",
       "      <td>0</td>\n",
       "      <td>2</td>\n",
       "      <td>0</td>\n",
       "      <td>2</td>\n",
       "      <td>0</td>\n",
       "      <td>0</td>\n",
       "      <td>1</td>\n",
       "      <td>0</td>\n",
       "      <td>0</td>\n",
       "      <td>42.30</td>\n",
       "      <td>1840.75</td>\n",
       "      <td>0</td>\n",
       "    </tr>\n",
       "    <tr>\n",
       "      <th>4</th>\n",
       "      <td>0</td>\n",
       "      <td>0</td>\n",
       "      <td>2</td>\n",
       "      <td>1</td>\n",
       "      <td>0</td>\n",
       "      <td>0</td>\n",
       "      <td>0</td>\n",
       "      <td>0</td>\n",
       "      <td>0</td>\n",
       "      <td>0</td>\n",
       "      <td>1</td>\n",
       "      <td>2</td>\n",
       "      <td>70.70</td>\n",
       "      <td>151.65</td>\n",
       "      <td>1</td>\n",
       "    </tr>\n",
       "  </tbody>\n",
       "</table>\n",
       "</div>"
      ],
      "text/plain": [
       "   SeniorCitizen  Dependents  tenure  InternetService  OnlineSecurity  \\\n",
       "0              0           0       1                0               0   \n",
       "1              0           0      34                0               2   \n",
       "2              0           0       2                0               2   \n",
       "3              0           0      45                0               2   \n",
       "4              0           0       2                1               0   \n",
       "\n",
       "   OnlineBackup  TechSupport  StreamingTV  StreamingMovies  Contract  \\\n",
       "0             2            0            0                0         0   \n",
       "1             0            0            0                0         1   \n",
       "2             2            0            0                0         0   \n",
       "3             0            2            0                0         1   \n",
       "4             0            0            0                0         0   \n",
       "\n",
       "   PaperlessBilling  PaymentMethod  MonthlyCharges  TotalCharges  Churn  \n",
       "0                 1              2           29.85         29.85      0  \n",
       "1                 0              3           56.95       1889.50      0  \n",
       "2                 1              3           53.85        108.15      1  \n",
       "3                 0              0           42.30       1840.75      0  \n",
       "4                 1              2           70.70        151.65      1  "
      ]
     },
     "execution_count": 43,
     "metadata": {},
     "output_type": "execute_result"
    }
   ],
   "source": [
    "#Preprocessing: extract independent-x and dependent-y variables        \n",
    "y_data = data['Churn']\n",
    "X_data = data.drop('Churn', axis =1)\n",
    "data.head()     "
   ]
  },
  {
   "cell_type": "code",
   "execution_count": null,
   "id": "c08aad4b",
   "metadata": {},
   "outputs": [],
   "source": []
  },
  {
   "cell_type": "markdown",
   "id": "fe7f1b2a",
   "metadata": {},
   "source": [
    "**Spliting Data Set Into Training and Testing Sets**"
   ]
  },
  {
   "cell_type": "code",
   "execution_count": 44,
   "id": "e0f7bbee",
   "metadata": {},
   "outputs": [
    {
     "name": "stdout",
     "output_type": "stream",
     "text": [
      "Training data size:  (5274, 14)\n",
      "Test data size:  (1758, 14)\n"
     ]
    }
   ],
   "source": [
    "#importing train_test_split library\n",
    "from sklearn.model_selection import train_test_split \n",
    "\n",
    "#Get Training and Test sets\n",
    "X_train, X_test, y_train, y_test = train_test_split(X_data, y_data, test_size = 0.25, random_state = 10)\n",
    "print('Training data size: ', X_train.shape)\n",
    "print('Test data size: ', X_test.shape, )     "
   ]
  },
  {
   "cell_type": "code",
   "execution_count": null,
   "id": "72ed662c",
   "metadata": {},
   "outputs": [],
   "source": []
  },
  {
   "cell_type": "markdown",
   "id": "65e1066c",
   "metadata": {},
   "source": [
    "**Training The Data Set Using The DecisionTreeClassifier**"
   ]
  },
  {
   "cell_type": "code",
   "execution_count": 45,
   "id": "0d397d75",
   "metadata": {},
   "outputs": [],
   "source": [
    "#imopring the DecisionTreeClassifier\n",
    "from sklearn.tree import DecisionTreeClassifier\n",
    "\n",
    "DTclass = DecisionTreeClassifier(criterion='entropy', random_state=0) \n",
    "DTclass.fit(X_train, y_train)    \n",
    "DTclass = DTclass  \n",
    "pred_y = DTclass.predict(X_test)"
   ]
  },
  {
   "cell_type": "code",
   "execution_count": null,
   "id": "e945a2db",
   "metadata": {},
   "outputs": [],
   "source": []
  },
  {
   "cell_type": "markdown",
   "id": "70a9cc15",
   "metadata": {},
   "source": [
    "**Evaluating the DT-Model Using Confusion Matrix, Precision, Recall, F1-Score**"
   ]
  },
  {
   "cell_type": "code",
   "execution_count": 46,
   "id": "b4361361",
   "metadata": {},
   "outputs": [
    {
     "name": "stdout",
     "output_type": "stream",
     "text": [
      "Classification report for DT\n",
      "\n",
      "              precision    recall  f1-score   support\n",
      "\n",
      "           0       0.83      0.82      0.83      1297\n",
      "           1       0.51      0.52      0.52       461\n",
      "\n",
      "    accuracy                           0.74      1758\n",
      "   macro avg       0.67      0.67      0.67      1758\n",
      "weighted avg       0.75      0.74      0.75      1758\n",
      "\n",
      "[[1067  230]\n",
      " [ 219  242]]\n"
     ]
    }
   ],
   "source": [
    "print('Classification report for DT\\n')\n",
    "C_matrix = confusion_matrix(y_test, pred_y)\n",
    "print(classification_report(y_test, pred_y))\n",
    "print(C_matrix)\n",
    "\n"
   ]
  },
  {
   "cell_type": "code",
   "execution_count": null,
   "id": "73023750",
   "metadata": {},
   "outputs": [],
   "source": []
  },
  {
   "cell_type": "markdown",
   "id": "184790b9",
   "metadata": {},
   "source": [
    "**Visualizing the confusion matrix of DT-Model**"
   ]
  },
  {
   "cell_type": "code",
   "execution_count": 47,
   "id": "52a03a5e",
   "metadata": {},
   "outputs": [
    {
     "name": "stderr",
     "output_type": "stream",
     "text": [
      "C:\\Users\\Jerome\\anaconda3\\lib\\site-packages\\sklearn\\utils\\deprecation.py:87: FutureWarning: Function plot_confusion_matrix is deprecated; Function `plot_confusion_matrix` is deprecated in 1.0 and will be removed in 1.2. Use one of the class methods: ConfusionMatrixDisplay.from_predictions or ConfusionMatrixDisplay.from_estimator.\n",
      "  warnings.warn(msg, category=FutureWarning)\n"
     ]
    },
    {
     "data": {
      "image/png": "[encoded data removed]",
      "text/plain": [
       "<Figure size 432x288 with 2 Axes>"
      ]
     },
     "metadata": {
      "needs_background": "light"
     },
     "output_type": "display_data"
    }
   ],
   "source": [
    "#Visualize confusion matrix\n",
    "graph_C_matrix = plot_confusion_matrix(DTclass, X_test, y_test, display_labels=['No', 'Yes'])\n",
    "graph_C_matrix.figure_.suptitle(\"Visualization of Confusion Matrix Results\")\n",
    "plt.show()"
   ]
  },
  {
   "cell_type": "markdown",
   "id": "347765fb",
   "metadata": {},
   "source": [
    "**Evaluation Results**\n",
    "\n",
    "Accuracy: The model achieved an overall accuracy of approximately 79%.\n",
    "\n",
    "Precision: Precision for class 0 (no churn) is 83%, and for class 1 (churn), it is 62%.\n",
    "\n",
    "Recall: Recall for class 0 is 90%, while for class 1, it is 48%.\n",
    "\n",
    "F1-Score: The weighted average F1-score is around 0.78.\n",
    "\n",
    "\n",
    "\n",
    "\n",
    "**Confusion Matrix**\n",
    "\n",
    "The confusion matrix provides a detailed breakdown of correct and incorrect predictions.\n",
    "\n",
    "True Positives (TP): 220, True Negatives (TN): 1164, False Positives (FP): 133, False Negatives (FN): 241.\n",
    "\n",
    "\n",
    "\n",
    "\n",
    "**Analysis**\n",
    "\n",
    "The model performs better in predicting instances of no churn (class 0) compared to churn (class 1).\n",
    "\n",
    "The recall for class 1 is relatively low (48%), indicating the model might miss some instances of actual churn.\n",
    "\n",
    "The precision for class 1 is moderate (62%), suggesting there might be some false positives.\n",
    "\n",
    "In summary, while the model demonstrates good overall accuracy, there is room for improvement, particularly in capturing instances of churn and minimizing false positives. Further optimization or exploration of different models could be considered."
   ]
  },
  {
   "cell_type": "code",
   "execution_count": null,
   "id": "3788c4f7",
   "metadata": {},
   "outputs": [],
   "source": []
  },
  {
   "cell_type": "markdown",
   "id": "61b920dd",
   "metadata": {},
   "source": [
    "**Training The Data Set Using The RandomForestClassifier**"
   ]
  },
  {
   "cell_type": "code",
   "execution_count": 48,
   "id": "1ae63e8f",
   "metadata": {},
   "outputs": [],
   "source": [
    "#importing the RandomForestClassifier\n",
    "from sklearn.ensemble import RandomForestClassifier\n",
    "\n",
    "#Training data set with the RandomForestClassifier\n",
    "RFclass = RandomForestClassifier(n_estimators=10, bootstrap=True, criterion='entropy', random_state=0)\n",
    "RFclass.fit(X_train, y_train)    \n",
    "RFclass = RFclass  \n",
    "pred_y = RFclass.predict(X_test)"
   ]
  },
  {
   "cell_type": "code",
   "execution_count": null,
   "id": "2a9ff008",
   "metadata": {},
   "outputs": [],
   "source": []
  },
  {
   "cell_type": "markdown",
   "id": "f7b2dffe",
   "metadata": {},
   "source": [
    "**Confusion Matrix and Classification reports for RF-Model**"
   ]
  },
  {
   "cell_type": "code",
   "execution_count": 49,
   "id": "17d4b1eb",
   "metadata": {},
   "outputs": [
    {
     "name": "stdout",
     "output_type": "stream",
     "text": [
      "Confusion Matrix: \n",
      " [[1164  133]\n",
      " [ 241  220]]\n",
      "Classification Report: \n",
      "               precision    recall  f1-score   support\n",
      "\n",
      "           0       0.83      0.90      0.86      1297\n",
      "           1       0.62      0.48      0.54       461\n",
      "\n",
      "    accuracy                           0.79      1758\n",
      "   macro avg       0.73      0.69      0.70      1758\n",
      "weighted avg       0.77      0.79      0.78      1758\n",
      "\n",
      "Accuracy: =  0.7872582480091013\n"
     ]
    },
    {
     "name": "stderr",
     "output_type": "stream",
     "text": [
      "C:\\Users\\Jerome\\anaconda3\\lib\\site-packages\\sklearn\\utils\\deprecation.py:87: FutureWarning: Function plot_confusion_matrix is deprecated; Function `plot_confusion_matrix` is deprecated in 1.0 and will be removed in 1.2. Use one of the class methods: ConfusionMatrixDisplay.from_predictions or ConfusionMatrixDisplay.from_estimator.\n",
      "  warnings.warn(msg, category=FutureWarning)\n"
     ]
    },
    {
     "data": {
      "image/png": "[encoded data removed]",
      "text/plain": [
       "<Figure size 432x288 with 2 Axes>"
      ]
     },
     "metadata": {
      "needs_background": "light"
     },
     "output_type": "display_data"
    }
   ],
   "source": [
    "Cmatrix = confusion_matrix(y_test, pred_y)\n",
    "print('Confusion Matrix: \\n', Cmatrix)\n",
    "print('Classification Report: \\n', classification_report(y_test, pred_y))\n",
    "print(\"Accuracy: = \", accuracy_score(y_test, pred_y)) \n",
    "\n",
    "#Visualize confusion matrix\n",
    "graph_Cmatrix = plot_confusion_matrix(RFclass, X_test, y_test, display_labels=['No', 'Yes'])\n",
    "graph_Cmatrix.figure_.suptitle(\"Visualization of Confusion Matrix Results\")\n",
    "plt.show()"
   ]
  },
  {
   "cell_type": "markdown",
   "id": "2cdb4418",
   "metadata": {},
   "source": [
    "**Classification Report**\n",
    "\n",
    "Accuracy: The Random Forest (RF) classifier achieved an accuracy of approximately 78.73% on the test set.\n",
    "\n",
    "Precision: Precision for class 0 (no churn) is 83%, and for class 1 (churn), it is 62%.\n",
    "\n",
    "Recall (Sensitivity): Recall for class 0 is 90%, while for class 1, it is 48%.\n",
    "\n",
    "F1-Score: The weighted average F1-score is around 0.78.\n",
    "    \n",
    "  \n",
    "  \n",
    "  \n",
    "**Confusion Matrix**\n",
    "\n",
    "The confusion matrix provides a detailed breakdown of correct and incorrect predictions.\n",
    "\n",
    "True Positives (TP): 220\n",
    "\n",
    "True Negatives (TN): 1164\n",
    "\n",
    "False Positives (FP): 133\n",
    "\n",
    "False Negatives (FN): 241.\n",
    "    \n",
    "   \n",
    "   \n",
    "   \n",
    "**Analysis**\n",
    "\n",
    "The RF classifier demonstrates performance comparable to the Decision Tree model, with an accuracy of around 78.73%.\n",
    "\n",
    "Similar to the Decision Tree, the RF model performs better in predicting instances of no churn (class 0) compared to churn (class 1).\n",
    "\n",
    "The recall for class 1 is relatively low (48%), indicating that the model might miss some instances of actual churn.\n",
    "\n",
    "The precision for class 1 is moderate (62%), suggesting there might be some false positives.\n",
    "\n"
   ]
  },
  {
   "cell_type": "code",
   "execution_count": null,
   "id": "310883a9",
   "metadata": {},
   "outputs": [],
   "source": []
  },
  {
   "cell_type": "code",
   "execution_count": null,
   "id": "9d985d03",
   "metadata": {},
   "outputs": [],
   "source": []
  },
  {
   "cell_type": "markdown",
   "id": "d20856c8",
   "metadata": {},
   "source": [
    "**Training the data set using Neural Network Classifier**"
   ]
  },
  {
   "cell_type": "code",
   "execution_count": 53,
   "id": "e8f33512",
   "metadata": {},
   "outputs": [
    {
     "name": "stdout",
     "output_type": "stream",
     "text": [
      "(5274, 14) : Training data size\n",
      "(1758, 14) : Test data size\n"
     ]
    }
   ],
   "source": [
    "#importing MLPClassifier and StandardScaler\n",
    "from sklearn.neural_network import MLPClassifier\n",
    "from sklearn.preprocessing import StandardScaler\n",
    "\n",
    "#Data Scaling\n",
    "scaleD = StandardScaler()\n",
    "scaled_X_train = scaleD.fit_transform(X_train)\n",
    "scaled_X_test = scaleD.transform(X_test)   \n",
    "scaleD = scaleD\n",
    "\n",
    "print(scaled_X_train.shape, ': Training data size')\n",
    "print(scaled_X_test.shape, ': Test data size')           \n",
    "\n"
   ]
  },
  {
   "cell_type": "code",
   "execution_count": 54,
   "id": "2d2a1e75",
   "metadata": {},
   "outputs": [
    {
     "name": "stderr",
     "output_type": "stream",
     "text": [
      "C:\\Users\\Jerome\\anaconda3\\lib\\site-packages\\sklearn\\neural_network\\_multilayer_perceptron.py:692: ConvergenceWarning: Stochastic Optimizer: Maximum iterations (200) reached and the optimization hasn't converged yet.\n",
      "  warnings.warn(\n"
     ]
    }
   ],
   "source": [
    "\n",
    "#Training the data sets with MLPClassifier\n",
    "NNclass = MLPClassifier(hidden_layer_sizes=(6,6), activation=\"relu\", max_iter=200, random_state=2)\n",
    "NNclass.fit(scaled_X_train, y_train)    \n",
    "NNclass = NNclass  \n",
    "pred_y = NNclass.predict(scaled_X_test)"
   ]
  },
  {
   "cell_type": "code",
   "execution_count": null,
   "id": "3946899b",
   "metadata": {},
   "outputs": [],
   "source": []
  },
  {
   "cell_type": "markdown",
   "id": "1648f2e7",
   "metadata": {},
   "source": [
    "**Confusion Matrix and Classification reports for Neural Network Model**"
   ]
  },
  {
   "cell_type": "code",
   "execution_count": 56,
   "id": "7e82a2ae",
   "metadata": {},
   "outputs": [
    {
     "name": "stdout",
     "output_type": "stream",
     "text": [
      "Confusion Matrix: \n",
      " [[1140  157]\n",
      " [ 193  268]]\n",
      "Classification Report: \n",
      "               precision    recall  f1-score   support\n",
      "\n",
      "          No       0.86      0.88      0.87      1297\n",
      "         Yes       0.63      0.58      0.60       461\n",
      "\n",
      "    accuracy                           0.80      1758\n",
      "   macro avg       0.74      0.73      0.74      1758\n",
      "weighted avg       0.80      0.80      0.80      1758\n",
      "\n",
      "Accuracy: =  0.800910125142207\n"
     ]
    }
   ],
   "source": [
    "#Confusion Matrix and Classification reports\n",
    "Cmatrix = confusion_matrix(y_test, pred_y)\n",
    "print('Confusion Matrix: \\n', Cmatrix)\n",
    "print('Classification Report: \\n', classification_report(y_test, pred_y, target_names = [\"No\", \"Yes\"]))\n",
    "print(\"Accuracy: = \", accuracy_score(y_test, pred_y)) \n",
    "\n"
   ]
  },
  {
   "cell_type": "code",
   "execution_count": null,
   "id": "fb841791",
   "metadata": {},
   "outputs": [],
   "source": []
  },
  {
   "cell_type": "code",
   "execution_count": 59,
   "id": "bb2ceead",
   "metadata": {},
   "outputs": [
    {
     "name": "stderr",
     "output_type": "stream",
     "text": [
      "C:\\Users\\Jerome\\anaconda3\\lib\\site-packages\\sklearn\\utils\\deprecation.py:87: FutureWarning: Function plot_confusion_matrix is deprecated; Function `plot_confusion_matrix` is deprecated in 1.0 and will be removed in 1.2. Use one of the class methods: ConfusionMatrixDisplay.from_predictions or ConfusionMatrixDisplay.from_estimator.\n",
      "  warnings.warn(msg, category=FutureWarning)\n"
     ]
    },
    {
     "data": {
      "image/png": "[encoded data removed]",
      "text/plain": [
       "<Figure size 432x288 with 2 Axes>"
      ]
     },
     "metadata": {
      "needs_background": "light"
     },
     "output_type": "display_data"
    },
    {
     "data": {
      "image/png": "[encoded data removed]",
      "text/plain": [
       "<Figure size 432x288 with 1 Axes>"
      ]
     },
     "metadata": {
      "needs_background": "light"
     },
     "output_type": "display_data"
    }
   ],
   "source": [
    "#Visualize confusion matrix\n",
    "graph_Cmatrix = plot_confusion_matrix(NNclass, scaled_X_test, y_test, display_labels=['No', 'Yes'])\n",
    "graph_Cmatrix.figure_.suptitle(\"Visualization of Confusion Matrix Results\")\n",
    "plt.show()\n",
    "\n",
    "#Visualize the error graph\n",
    "plt.plot(NNclass.loss_curve_)\n",
    "plt.title(\"Loss Curve\", fontsize=12)\n",
    "plt.xlabel('Number of Iterations')\n",
    "plt.ylabel('Cost')\n",
    "plt.show()"
   ]
  },
  {
   "cell_type": "markdown",
   "id": "d7cb7436",
   "metadata": {},
   "source": [
    "**Classification Reports**\n",
    "\n",
    "Accuracy: The Neural Network classifier achieved an accuracy of approximately 80.09% on the test set.\n",
    "\n",
    "Precision: Precision for class 'No' (no churn) is 86%, and for class 'Yes' (churn), it is 63%.\n",
    "\n",
    "Recall (Sensitivity): Recall for class 'No' is 88%, while for class 'Yes', it is 58%.\n",
    "\n",
    "F1-Score: The weighted average F1-score is around 0.80.\n",
    "    \n",
    "    \n",
    "    \n",
    "    \n",
    "    \n",
    "**Confusion Matrix**\n",
    "\n",
    "The confusion matrix provides a detailed breakdown of correct and incorrect predictions.\n",
    "\n",
    "True Positives (TP): 268\n",
    "\n",
    "True Negatives (TN): 1140\n",
    "\n",
    "False Positives (FP): 157\n",
    "\n",
    "False Negatives (FN): 193.\n",
    "    \n",
    "\n",
    "\n",
    "\n",
    "\n",
    "**Analysis**\n",
    "\n",
    "The Neural Network model shows an improvement in accuracy compared to the Decision Tree and Random Forest models, achieving around 80.09%.\n",
    "\n",
    "Precision for class 'Yes' (churn) is higher (63%), indicating a better ability to identify true positives.\n",
    "\n",
    "Recall for class 'Yes' is still relatively moderate (58%), suggesting that the model might miss some instances of actual churn.\n",
    "\n",
    "The weighted average F1-score is around 0.80, reflecting a balanced performance."
   ]
  },
  {
   "cell_type": "code",
   "execution_count": null,
   "id": "5fddbd4c",
   "metadata": {},
   "outputs": [],
   "source": []
  },
  {
   "cell_type": "markdown",
   "id": "59f9750b",
   "metadata": {},
   "source": [
    "**Comparison**\n",
    "\n",
    "\n",
    "The **Neural Network model** shows a slight improvement in accuracy compared to the **Decision Tree** and **Random Forest models**.\n",
    "\n",
    "**Precision** for class 'Yes' (churn) is higher in the Neural Network model, indicating a better ability to identify **true positives**.\n",
    "\n",
    "The Neural Network model also demonstrates a slightly higher **recall** for class 'Yes' compared to the Decision Tree and Random Forest models.\n",
    "\n",
    "The **F1-Score** for the Neural Network is slightly higher, indicating a more balanced performance between precision and recall."
   ]
  },
  {
   "cell_type": "code",
   "execution_count": null,
   "id": "cd2ef104",
   "metadata": {},
   "outputs": [],
   "source": []
  }
 ],
 "metadata": {
  "kernelspec": {
   "display_name": "Python 3 (ipykernel)",
   "language": "python",
   "name": "python3"
  },
  "language_info": {
   "codemirror_mode": {
    "name": "ipython",
    "version": 3
   },
   "file_extension": ".py",
   "mimetype": "text/x-python",
   "name": "python",
   "nbconvert_exporter": "python",
   "pygments_lexer": "ipython3",
   "version": "3.9.12"
  }
 },
 "nbformat": 4,
 "nbformat_minor": 5
}
